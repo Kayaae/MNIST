{
 "cells": [
  {
   "cell_type": "markdown",
   "metadata": {},
   "source": [
    "# MNIST - Classification"
   ]
  },
  {
   "cell_type": "markdown",
   "metadata": {
    "ExecuteTime": {
     "end_time": "2020-10-18T18:06:45.487315Z",
     "start_time": "2020-10-18T18:06:45.481692Z"
    }
   },
   "source": [
    "<h1 align=\"center\">- $\\infty$ -</h1> "
   ]
  },
  {
   "cell_type": "markdown",
   "metadata": {},
   "source": [
    "## Getting the data"
   ]
  },
  {
   "cell_type": "code",
   "execution_count": 15,
   "metadata": {
    "ExecuteTime": {
     "end_time": "2020-10-21T10:38:55.517713Z",
     "start_time": "2020-10-21T10:38:24.661178Z"
    }
   },
   "outputs": [
    {
     "data": {
      "text/plain": [
       "dict_keys(['data', 'target', 'feature_names', 'DESCR', 'details', 'categories', 'url'])"
      ]
     },
     "execution_count": 15,
     "metadata": {},
     "output_type": "execute_result"
    }
   ],
   "source": [
    "from sklearn.datasets import fetch_openml\n",
    "mnist = fetch_openml('mnist_784', version=1)\n",
    "mnist.keys()"
   ]
  },
  {
   "cell_type": "code",
   "execution_count": 2,
   "metadata": {
    "ExecuteTime": {
     "end_time": "2020-10-20T22:08:52.034044Z",
     "start_time": "2020-10-20T22:08:52.024553Z"
    },
    "collapsed": true
   },
   "outputs": [
    {
     "data": {
      "text/plain": [
       "\"**Author**: Yann LeCun, Corinna Cortes, Christopher J.C. Burges  \\n**Source**: [MNIST Website](http://yann.lecun.com/exdb/mnist/) - Date unknown  \\n**Please cite**:  \\n\\nThe MNIST database of handwritten digits with 784 features, raw data available at: http://yann.lecun.com/exdb/mnist/. It can be split in a training set of the first 60,000 examples, and a test set of 10,000 examples  \\n\\nIt is a subset of a larger set available from NIST. The digits have been size-normalized and centered in a fixed-size image. It is a good database for people who want to try learning techniques and pattern recognition methods on real-world data while spending minimal efforts on preprocessing and formatting. The original black and white (bilevel) images from NIST were size normalized to fit in a 20x20 pixel box while preserving their aspect ratio. The resulting images contain grey levels as a result of the anti-aliasing technique used by the normalization algorithm. the images were centered in a 28x28 image by computing the center of mass of the pixels, and translating the image so as to position this point at the center of the 28x28 field.  \\n\\nWith some classification methods (particularly template-based methods, such as SVM and K-nearest neighbors), the error rate improves when the digits are centered by bounding box rather than center of mass. If you do this kind of pre-processing, you should report it in your publications. The MNIST database was constructed from NIST's NIST originally designated SD-3 as their training set and SD-1 as their test set. However, SD-3 is much cleaner and easier to recognize than SD-1. The reason for this can be found on the fact that SD-3 was collected among Census Bureau employees, while SD-1 was collected among high-school students. Drawing sensible conclusions from learning experiments requires that the result be independent of the choice of training set and test among the complete set of samples. Therefore it was necessary to build a new database by mixing NIST's datasets.  \\n\\nThe MNIST training set is composed of 30,000 patterns from SD-3 and 30,000 patterns from SD-1. Our test set was composed of 5,000 patterns from SD-3 and 5,000 patterns from SD-1. The 60,000 pattern training set contained examples from approximately 250 writers. We made sure that the sets of writers of the training set and test set were disjoint. SD-1 contains 58,527 digit images written by 500 different writers. In contrast to SD-3, where blocks of data from each writer appeared in sequence, the data in SD-1 is scrambled. Writer identities for SD-1 is available and we used this information to unscramble the writers. We then split SD-1 in two: characters written by the first 250 writers went into our new training set. The remaining 250 writers were placed in our test set. Thus we had two sets with nearly 30,000 examples each. The new training set was completed with enough examples from SD-3, starting at pattern # 0, to make a full set of 60,000 training patterns. Similarly, the new test set was completed with SD-3 examples starting at pattern # 35,000 to make a full set with 60,000 test patterns. Only a subset of 10,000 test images (5,000 from SD-1 and 5,000 from SD-3) is available on this site. The full 60,000 sample training set is available.\\n\\nDownloaded from openml.org.\""
      ]
     },
     "execution_count": 2,
     "metadata": {},
     "output_type": "execute_result"
    }
   ],
   "source": [
    "mnist.DESCR"
   ]
  },
  {
   "cell_type": "code",
   "execution_count": 16,
   "metadata": {
    "ExecuteTime": {
     "end_time": "2020-10-21T10:38:56.052130Z",
     "start_time": "2020-10-21T10:38:56.041524Z"
    }
   },
   "outputs": [
    {
     "data": {
      "text/plain": [
       "(70000, 784)"
      ]
     },
     "execution_count": 16,
     "metadata": {},
     "output_type": "execute_result"
    }
   ],
   "source": [
    "X, y = mnist[\"data\"], mnist[\"target\"]\n",
    "X.shape"
   ]
  },
  {
   "cell_type": "code",
   "execution_count": 17,
   "metadata": {
    "ExecuteTime": {
     "end_time": "2020-10-21T10:38:56.596572Z",
     "start_time": "2020-10-21T10:38:56.589669Z"
    }
   },
   "outputs": [
    {
     "data": {
      "text/plain": [
       "(70000,)"
      ]
     },
     "execution_count": 17,
     "metadata": {},
     "output_type": "execute_result"
    }
   ],
   "source": [
    "y.shape"
   ]
  },
  {
   "cell_type": "code",
   "execution_count": 18,
   "metadata": {
    "ExecuteTime": {
     "end_time": "2020-10-21T10:38:57.553391Z",
     "start_time": "2020-10-21T10:38:56.956701Z"
    }
   },
   "outputs": [
    {
     "data": {
      "text/plain": [
       "<Figure size 640x480 with 1 Axes>"
      ]
     },
     "metadata": {},
     "output_type": "display_data"
    }
   ],
   "source": [
    "import matplotlib as mpl\n",
    "import matplotlib.pyplot as plt\n",
    "\n",
    "some_digit = X[0]\n",
    "some_digit_image = some_digit.reshape(28,28)\n",
    "\n",
    "plt.imshow(some_digit_image, cmap='binary')\n",
    "plt.axis(\"off\")\n",
    "plt.show()"
   ]
  },
  {
   "cell_type": "code",
   "execution_count": 19,
   "metadata": {
    "ExecuteTime": {
     "end_time": "2020-10-21T10:38:58.200645Z",
     "start_time": "2020-10-21T10:38:58.193919Z"
    }
   },
   "outputs": [
    {
     "data": {
      "text/plain": [
       "'3'"
      ]
     },
     "execution_count": 19,
     "metadata": {},
     "output_type": "execute_result"
    }
   ],
   "source": [
    "y[12]"
   ]
  },
  {
   "cell_type": "code",
   "execution_count": 20,
   "metadata": {
    "ExecuteTime": {
     "end_time": "2020-10-21T10:38:58.956824Z",
     "start_time": "2020-10-21T10:38:58.942094Z"
    }
   },
   "outputs": [],
   "source": [
    "import numpy as np\n",
    "y = y.astype(np.uint8)"
   ]
  },
  {
   "cell_type": "markdown",
   "metadata": {},
   "source": [
    "**Split data into train and test set before starting the project!**"
   ]
  },
  {
   "cell_type": "code",
   "execution_count": 21,
   "metadata": {
    "ExecuteTime": {
     "end_time": "2020-10-21T10:38:59.635243Z",
     "start_time": "2020-10-21T10:38:59.630010Z"
    }
   },
   "outputs": [],
   "source": [
    "X_train, X_test, y_train, y_test = X[:60000], X[60000:], y[:60000], y[60000:]"
   ]
  },
  {
   "cell_type": "markdown",
   "metadata": {
    "ExecuteTime": {
     "end_time": "2020-10-18T20:12:27.959893Z",
     "start_time": "2020-10-18T20:12:27.807551Z"
    }
   },
   "source": [
    "## SGD-Classifier -  **Starting by simply classifying 5's.**"
   ]
  },
  {
   "cell_type": "code",
   "execution_count": 29,
   "metadata": {
    "ExecuteTime": {
     "end_time": "2020-10-18T20:41:36.769879Z",
     "start_time": "2020-10-18T20:41:36.759555Z"
    }
   },
   "outputs": [],
   "source": [
    "y_train_5 = (y_train == 5)\n",
    "y_test_5 = (y_test == 5)"
   ]
  },
  {
   "cell_type": "code",
   "execution_count": 30,
   "metadata": {
    "ExecuteTime": {
     "end_time": "2020-10-18T20:42:05.116646Z",
     "start_time": "2020-10-18T20:41:37.111990Z"
    }
   },
   "outputs": [
    {
     "data": {
      "text/plain": [
       "SGDClassifier(alpha=0.0001, average=False, class_weight=None,\n",
       "              early_stopping=False, epsilon=0.1, eta0=0.0, fit_intercept=True,\n",
       "              l1_ratio=0.15, learning_rate='optimal', loss='hinge',\n",
       "              max_iter=1000, n_iter_no_change=5, n_jobs=None, penalty='l2',\n",
       "              power_t=0.5, random_state=42, shuffle=True, tol=0.001,\n",
       "              validation_fraction=0.1, verbose=0, warm_start=False)"
      ]
     },
     "execution_count": 30,
     "metadata": {},
     "output_type": "execute_result"
    }
   ],
   "source": [
    "from sklearn.linear_model import SGDClassifier\n",
    "\n",
    "sgd_clf = SGDClassifier(random_state=42)\n",
    "sgd_clf.fit(X_train, y_train_5)"
   ]
  },
  {
   "cell_type": "markdown",
   "metadata": {
    "ExecuteTime": {
     "end_time": "2020-10-18T20:42:05.211099Z",
     "start_time": "2020-10-18T20:42:05.202559Z"
    }
   },
   "source": [
    "sgd_clf.predict([X_train[12]])"
   ]
  },
  {
   "cell_type": "markdown",
   "metadata": {},
   "source": [
    "**Validating the model performance**"
   ]
  },
  {
   "cell_type": "code",
   "execution_count": 33,
   "metadata": {
    "ExecuteTime": {
     "end_time": "2020-10-18T20:57:35.612195Z",
     "start_time": "2020-10-18T20:56:58.977327Z"
    }
   },
   "outputs": [
    {
     "data": {
      "text/plain": [
       "array([0.95035, 0.96035, 0.9604 ])"
      ]
     },
     "execution_count": 33,
     "metadata": {},
     "output_type": "execute_result"
    }
   ],
   "source": [
    "from sklearn.model_selection import cross_val_score\n",
    "\n",
    "cross_val_score(sgd_clf, X_train, y_train_5, \n",
    "                cv=3, scoring=\"accuracy\")"
   ]
  },
  {
   "cell_type": "markdown",
   "metadata": {
    "ExecuteTime": {
     "end_time": "2020-10-18T20:59:15.446411Z",
     "start_time": "2020-10-18T20:59:15.419955Z"
    }
   },
   "source": [
    "**Not a indicator of good score through this method, since only 10% of the dataset is 5's; i.e. skewed dataset.**\n",
    "**Insted, we use confusion matrix**"
   ]
  },
  {
   "cell_type": "code",
   "execution_count": 36,
   "metadata": {
    "ExecuteTime": {
     "end_time": "2020-10-18T21:02:42.001153Z",
     "start_time": "2020-10-18T21:01:56.770500Z"
    }
   },
   "outputs": [],
   "source": [
    "from sklearn.model_selection import cross_val_predict\n",
    "\n",
    "y_train_pred = cross_val_predict(sgd_clf, X_train, y_train_5, cv=3)"
   ]
  },
  {
   "cell_type": "code",
   "execution_count": 38,
   "metadata": {
    "ExecuteTime": {
     "end_time": "2020-10-18T21:17:59.389349Z",
     "start_time": "2020-10-18T21:17:59.308984Z"
    }
   },
   "outputs": [
    {
     "data": {
      "text/plain": [
       "array([[53892,   687],\n",
       "       [ 1891,  3530]])"
      ]
     },
     "execution_count": 38,
     "metadata": {},
     "output_type": "execute_result"
    }
   ],
   "source": [
    "from sklearn.metrics import confusion_matrix\n",
    "\n",
    "confusion_matrix(y_train_5, y_train_pred)"
   ]
  },
  {
   "attachments": {
    "image.png": {
     "image/png": "[encoded data removed]"
    }
   },
   "cell_type": "markdown",
   "metadata": {},
   "source": [
    "**Image of confusion matrix:**\n",
    "\n",
    "![image.png](attachment:image.png)"
   ]
  },
  {
   "cell_type": "code",
   "execution_count": 43,
   "metadata": {
    "ExecuteTime": {
     "end_time": "2020-10-18T21:43:17.537323Z",
     "start_time": "2020-10-18T21:43:17.495720Z"
    }
   },
   "outputs": [
    {
     "data": {
      "text/plain": [
       "0.8370879772350012"
      ]
     },
     "execution_count": 43,
     "metadata": {},
     "output_type": "execute_result"
    }
   ],
   "source": [
    "from sklearn.metrics import precision_score, recall_score\n",
    "\n",
    "precision_score(y_train_5, y_train_pred)"
   ]
  },
  {
   "cell_type": "code",
   "execution_count": 40,
   "metadata": {
    "ExecuteTime": {
     "end_time": "2020-10-18T21:42:14.491726Z",
     "start_time": "2020-10-18T21:42:14.433666Z"
    }
   },
   "outputs": [
    {
     "data": {
      "text/plain": [
       "0.6511713705958311"
      ]
     },
     "execution_count": 40,
     "metadata": {},
     "output_type": "execute_result"
    }
   ],
   "source": [
    "recall_score(y_train_5, y_train_pred)"
   ]
  },
  {
   "cell_type": "code",
   "execution_count": 44,
   "metadata": {
    "ExecuteTime": {
     "end_time": "2020-10-18T21:47:24.325738Z",
     "start_time": "2020-10-18T21:47:24.294811Z"
    }
   },
   "outputs": [
    {
     "data": {
      "text/plain": [
       "0.7325171197343846"
      ]
     },
     "execution_count": 44,
     "metadata": {},
     "output_type": "execute_result"
    }
   ],
   "source": [
    "from sklearn.metrics import f1_score\n",
    "\n",
    "f1_score(y_train_5, y_train_pred)"
   ]
  },
  {
   "cell_type": "markdown",
   "metadata": {},
   "source": [
    "**Depending on the purpose of the project, you decide the level of precision and recall you need. There is a trade-off. Below, we select the threshold value for a 90% precision:**"
   ]
  },
  {
   "cell_type": "code",
   "execution_count": 46,
   "metadata": {
    "ExecuteTime": {
     "end_time": "2020-10-20T08:42:30.634460Z",
     "start_time": "2020-10-20T08:41:26.050408Z"
    }
   },
   "outputs": [],
   "source": [
    "y_scores = cross_val_predict(sgd_clf, X_train, y_train_5, cv=3,\n",
    "                            method=\"decision_function\")"
   ]
  },
  {
   "cell_type": "code",
   "execution_count": 47,
   "metadata": {
    "ExecuteTime": {
     "end_time": "2020-10-20T08:45:08.212516Z",
     "start_time": "2020-10-20T08:45:07.999894Z"
    }
   },
   "outputs": [],
   "source": [
    "from sklearn.metrics import precision_recall_curve\n",
    "\n",
    "precisions, recalls, thresholds = precision_recall_curve(y_train_5, y_scores) "
   ]
  },
  {
   "cell_type": "code",
   "execution_count": 68,
   "metadata": {
    "ExecuteTime": {
     "end_time": "2020-10-20T09:02:55.250510Z",
     "start_time": "2020-10-20T09:02:55.030433Z"
    }
   },
   "outputs": [
    {
     "data": {
      "image/png": "[encoded data removed]",
      "text/plain": [
       "<Figure size 576x288 with 1 Axes>"
      ]
     },
     "metadata": {
      "needs_background": "light"
     },
     "output_type": "display_data"
    }
   ],
   "source": [
    "def plot_precision_recall_vs_threshold(precisions, recalls, thresholds):\n",
    "    plt.plot(thresholds, precisions[:-1], \"b--\", label=\"Precision\", linewidth=2)\n",
    "    plt.plot(thresholds, recalls[:-1], \"g-\", label=\"Recall\", linewidth=2)\n",
    "    plt.legend(loc=\"center right\", fontsize=16)\n",
    "    plt.xlabel(\"Threshold\", fontsize=16)\n",
    "    plt.grid(True)\n",
    "    plt.axis([-50000, 50000, 0, 1])\n",
    "    \n",
    "\n",
    "plt.figure(figsize=(8, 4))                                                                  # Not shown\n",
    "plot_precision_recall_vs_threshold(precisions, recalls, thresholds)\n",
    "\n",
    "recall_90_precision = recalls[np.argmax(precisions >= 0.90)]\n",
    "threshold_90_precision = thresholds[np.argmax(precisions >= 0.90)]\n",
    "\n",
    "plt.plot([threshold_90_precision, threshold_90_precision], [0., 0.9], \"r:\")                 # Not shown\n",
    "plt.plot([-50000, threshold_90_precision], [0.9, 0.9], \"r:\")                                # Not shown\n",
    "plt.plot([-50000, threshold_90_precision], [recall_90_precision, recall_90_precision], \"r:\")# Not shown\n",
    "plt.plot([threshold_90_precision], [0.9], \"ro\")                                             # Not shown\n",
    "plt.plot([threshold_90_precision], [recall_90_precision], \"ro\")                             # Not shown\n",
    "plt.show()"
   ]
  },
  {
   "cell_type": "code",
   "execution_count": 54,
   "metadata": {
    "ExecuteTime": {
     "end_time": "2020-10-20T08:47:52.399069Z",
     "start_time": "2020-10-20T08:47:52.388608Z"
    }
   },
   "outputs": [
    {
     "data": {
      "text/plain": [
       "array([0.09040123, 0.09038606, 0.09038757, ..., 1.        , 1.        ,\n",
       "       1.        ])"
      ]
     },
     "execution_count": 54,
     "metadata": {},
     "output_type": "execute_result"
    }
   ],
   "source": [
    "precisions[:-1]"
   ]
  },
  {
   "cell_type": "code",
   "execution_count": 75,
   "metadata": {
    "ExecuteTime": {
     "end_time": "2020-10-20T09:18:17.571497Z",
     "start_time": "2020-10-20T09:18:17.350140Z"
    }
   },
   "outputs": [
    {
     "data": {
      "image/png": "[encoded data removed]",
      "text/plain": [
       "<Figure size 432x288 with 1 Axes>"
      ]
     },
     "metadata": {
      "needs_background": "light"
     },
     "output_type": "display_data"
    }
   ],
   "source": [
    "def plot_precision_vs_recall(precisions, recalls):\n",
    "    plt.plot(recalls[:-1], precisions[:-1], \"b--\", label=\"PvsR\", linewidth=2)\n",
    "    plt.legend(loc=\"upper right\", fontsize=16)\n",
    "    plt.xlabel(\"Recall\", fontsize=16)\n",
    "    plt.ylabel(\"Precision\", fontsize=16)\n",
    "    plt.grid(True)\n",
    "    #plt.axis([0, 1, 0, 1])\n",
    "    \n",
    "plot_precision_vs_recall(precisions, recalls)"
   ]
  },
  {
   "cell_type": "code",
   "execution_count": 76,
   "metadata": {
    "ExecuteTime": {
     "end_time": "2020-10-20T09:20:05.598373Z",
     "start_time": "2020-10-20T09:20:05.584717Z"
    }
   },
   "outputs": [
    {
     "data": {
      "text/plain": [
       "3370.0194991439557"
      ]
     },
     "execution_count": 76,
     "metadata": {},
     "output_type": "execute_result"
    }
   ],
   "source": [
    "threshold_90_precision = thresholds[np.argmax(precisions >= 0.90)]\n",
    "threshold_90_precision"
   ]
  },
  {
   "cell_type": "code",
   "execution_count": 77,
   "metadata": {
    "ExecuteTime": {
     "end_time": "2020-10-20T09:21:25.942127Z",
     "start_time": "2020-10-20T09:21:25.934651Z"
    }
   },
   "outputs": [],
   "source": [
    "# Predicting values based on the 90% threshold\n",
    "y_train_pred_90 = (y_scores >= threshold_90_precision)"
   ]
  },
  {
   "cell_type": "code",
   "execution_count": 78,
   "metadata": {
    "ExecuteTime": {
     "end_time": "2020-10-20T09:23:08.181039Z",
     "start_time": "2020-10-20T09:23:08.135988Z"
    }
   },
   "outputs": [
    {
     "data": {
      "text/plain": [
       "0.9000345901072293"
      ]
     },
     "execution_count": 78,
     "metadata": {},
     "output_type": "execute_result"
    }
   ],
   "source": [
    "precision_score(y_train_5, y_train_pred_90)"
   ]
  },
  {
   "cell_type": "code",
   "execution_count": 79,
   "metadata": {
    "ExecuteTime": {
     "end_time": "2020-10-20T09:23:20.056071Z",
     "start_time": "2020-10-20T09:23:20.026467Z"
    }
   },
   "outputs": [
    {
     "data": {
      "text/plain": [
       "0.4799852425751706"
      ]
     },
     "execution_count": 79,
     "metadata": {},
     "output_type": "execute_result"
    }
   ],
   "source": [
    "recall_score(y_train_5, y_train_pred_90)"
   ]
  },
  {
   "cell_type": "markdown",
   "metadata": {},
   "source": [
    "### ROC Curve - receiver operating characteristic"
   ]
  },
  {
   "cell_type": "code",
   "execution_count": 84,
   "metadata": {
    "ExecuteTime": {
     "end_time": "2020-10-20T11:47:51.884885Z",
     "start_time": "2020-10-20T11:47:51.839507Z"
    }
   },
   "outputs": [],
   "source": [
    "from sklearn.metrics import roc_curve\n",
    "\n",
    "fpr, tpr, thresholds = roc_curve(y_train_5, y_scores)"
   ]
  },
  {
   "cell_type": "code",
   "execution_count": 98,
   "metadata": {
    "ExecuteTime": {
     "end_time": "2020-10-20T12:08:17.037130Z",
     "start_time": "2020-10-20T12:08:16.768972Z"
    }
   },
   "outputs": [
    {
     "name": "stderr",
     "output_type": "stream",
     "text": [
      "No handles with labels found to put in legend.\n"
     ]
    },
    {
     "data": {
      "image/png": "[encoded data removed]",
      "text/plain": [
       "<Figure size 576x432 with 1 Axes>"
      ]
     },
     "metadata": {
      "needs_background": "light"
     },
     "output_type": "display_data"
    }
   ],
   "source": [
    "def plot_roc_curve(fpr, tpr, label=None):\n",
    "    plt.plot(fpr, tpr, \"b-\", label=label)\n",
    "    plt.plot([0, 1], [0, 1], 'k--')\n",
    "    plt.axis([0, 1, 0, 1])\n",
    "    plt.ylabel(\"True Positive Rate (Recall)\")\n",
    "    plt.xlabel(\"False Positive Rate (Specifity)\")\n",
    "    plt.legend(loc=\"upper right\")\n",
    "\n",
    "    \n",
    "plt.figure(figsize=(8, 6))\n",
    "plot_roc_curve(fpr, tpr)\n",
    "plt.title(\"ROC Curve\")\n",
    "plt.show()"
   ]
  },
  {
   "cell_type": "code",
   "execution_count": 99,
   "metadata": {
    "ExecuteTime": {
     "end_time": "2020-10-20T12:13:24.991524Z",
     "start_time": "2020-10-20T12:13:24.948355Z"
    }
   },
   "outputs": [
    {
     "data": {
      "text/plain": [
       "0.9604938554008616"
      ]
     },
     "execution_count": 99,
     "metadata": {},
     "output_type": "execute_result"
    }
   ],
   "source": [
    "from sklearn.metrics import roc_auc_score\n",
    "\n",
    "roc_auc_score(y_train_5, y_scores)\n"
   ]
  },
  {
   "cell_type": "markdown",
   "metadata": {},
   "source": [
    "The closer the ROC AUC score is to 1, the better the classifier is with a low False Positive Rate and a high True Positve Rate. The closer to an AUC score of 0.5, the more random the classifier is. \n",
    "\n",
    "**RULE OF THUMB**\n",
    "- If the ratio of positives within the dataset is RARE, use Precision vs Recall Curve. \n",
    "- Otherwise, use the ROC Curve."
   ]
  },
  {
   "cell_type": "markdown",
   "metadata": {},
   "source": [
    "## Random Forest Classifier"
   ]
  },
  {
   "cell_type": "code",
   "execution_count": 100,
   "metadata": {
    "ExecuteTime": {
     "end_time": "2020-10-20T12:33:42.757916Z",
     "start_time": "2020-10-20T12:33:42.752363Z"
    }
   },
   "outputs": [],
   "source": [
    "from sklearn.ensemble import RandomForestClassifier"
   ]
  },
  {
   "cell_type": "code",
   "execution_count": 101,
   "metadata": {
    "ExecuteTime": {
     "end_time": "2020-10-20T12:40:05.858522Z",
     "start_time": "2020-10-20T12:39:47.724222Z"
    }
   },
   "outputs": [
    {
     "name": "stderr",
     "output_type": "stream",
     "text": [
      "/Users/kaya/opt/anaconda3/lib/python3.7/site-packages/sklearn/ensemble/forest.py:245: FutureWarning: The default value of n_estimators will change from 10 in version 0.20 to 100 in 0.22.\n",
      "  \"10 in version 0.20 to 100 in 0.22.\", FutureWarning)\n",
      "/Users/kaya/opt/anaconda3/lib/python3.7/site-packages/sklearn/ensemble/forest.py:245: FutureWarning: The default value of n_estimators will change from 10 in version 0.20 to 100 in 0.22.\n",
      "  \"10 in version 0.20 to 100 in 0.22.\", FutureWarning)\n",
      "/Users/kaya/opt/anaconda3/lib/python3.7/site-packages/sklearn/ensemble/forest.py:245: FutureWarning: The default value of n_estimators will change from 10 in version 0.20 to 100 in 0.22.\n",
      "  \"10 in version 0.20 to 100 in 0.22.\", FutureWarning)\n"
     ]
    }
   ],
   "source": [
    "forest_clf = RandomForestClassifier(random_state=42)\n",
    "y_probas_forest = cross_val_predict(forest_clf, X_train, y_train_5,\n",
    "                                    cv=3, method=\"predict_proba\")"
   ]
  },
  {
   "cell_type": "code",
   "execution_count": 108,
   "metadata": {
    "ExecuteTime": {
     "end_time": "2020-10-20T20:02:47.687767Z",
     "start_time": "2020-10-20T20:02:47.675496Z"
    }
   },
   "outputs": [],
   "source": [
    "y_scores_forest = y_probas_forest[:,1]"
   ]
  },
  {
   "cell_type": "code",
   "execution_count": 109,
   "metadata": {
    "ExecuteTime": {
     "end_time": "2020-10-20T20:02:53.974989Z",
     "start_time": "2020-10-20T20:02:53.919885Z"
    }
   },
   "outputs": [],
   "source": [
    "fpr_forest, tpr_forest, thresholds_forest = roc_curve(y_train_5, y_scores_forest)"
   ]
  },
  {
   "cell_type": "code",
   "execution_count": 115,
   "metadata": {
    "ExecuteTime": {
     "end_time": "2020-10-20T20:05:38.910468Z",
     "start_time": "2020-10-20T20:05:38.645950Z"
    }
   },
   "outputs": [
    {
     "data": {
      "image/png": "[encoded data removed]",
      "text/plain": [
       "<Figure size 432x288 with 1 Axes>"
      ]
     },
     "metadata": {
      "needs_background": "light"
     },
     "output_type": "display_data"
    }
   ],
   "source": [
    "plt.plot(fpr, tpr, \"r--\", linewidth=2, label=\"SGDClassifier\")\n",
    "plot_roc_curve(fpr_forest, tpr_forest, \"Random Forest Classifier\")\n",
    "plt.legend(loc=\"lower right\")\n",
    "plt.show()"
   ]
  },
  {
   "cell_type": "code",
   "execution_count": 116,
   "metadata": {
    "ExecuteTime": {
     "end_time": "2020-10-20T20:07:13.388895Z",
     "start_time": "2020-10-20T20:07:13.256556Z"
    }
   },
   "outputs": [
    {
     "name": "stdout",
     "output_type": "stream",
     "text": [
      "Random Forest ROC AUC:  0.9920527492698306\n",
      "SGD Classifier ROC AUC:  0.9604938554008616\n"
     ]
    }
   ],
   "source": [
    "print(\"Random Forest ROC AUC: \", roc_auc_score(y_train_5, y_scores_forest))\n",
    "print(\"SGD Classifier ROC AUC: \", roc_auc_score(y_train_5, y_scores))"
   ]
  },
  {
   "cell_type": "markdown",
   "metadata": {},
   "source": [
    "**Random forest is the better classifier**"
   ]
  },
  {
   "cell_type": "markdown",
   "metadata": {},
   "source": [
    "### RandomForestClassifier - Multiclass Classification"
   ]
  },
  {
   "cell_type": "code",
   "execution_count": 117,
   "metadata": {
    "ExecuteTime": {
     "end_time": "2020-10-20T20:10:57.764816Z",
     "start_time": "2020-10-20T20:10:57.752350Z"
    }
   },
   "outputs": [],
   "source": [
    "rf_clf = RandomForestClassifier(random_state=42)"
   ]
  },
  {
   "cell_type": "code",
   "execution_count": 118,
   "metadata": {
    "ExecuteTime": {
     "end_time": "2020-10-20T20:11:44.685999Z",
     "start_time": "2020-10-20T20:11:35.105166Z"
    }
   },
   "outputs": [
    {
     "name": "stderr",
     "output_type": "stream",
     "text": [
      "/Users/kaya/opt/anaconda3/lib/python3.7/site-packages/sklearn/ensemble/forest.py:245: FutureWarning: The default value of n_estimators will change from 10 in version 0.20 to 100 in 0.22.\n",
      "  \"10 in version 0.20 to 100 in 0.22.\", FutureWarning)\n"
     ]
    },
    {
     "data": {
      "text/plain": [
       "RandomForestClassifier(bootstrap=True, class_weight=None, criterion='gini',\n",
       "                       max_depth=None, max_features='auto', max_leaf_nodes=None,\n",
       "                       min_impurity_decrease=0.0, min_impurity_split=None,\n",
       "                       min_samples_leaf=1, min_samples_split=2,\n",
       "                       min_weight_fraction_leaf=0.0, n_estimators=10,\n",
       "                       n_jobs=None, oob_score=False, random_state=42, verbose=0,\n",
       "                       warm_start=False)"
      ]
     },
     "execution_count": 118,
     "metadata": {},
     "output_type": "execute_result"
    }
   ],
   "source": [
    "rf_clf.fit(X_train, y_train)"
   ]
  },
  {
   "cell_type": "code",
   "execution_count": 127,
   "metadata": {
    "ExecuteTime": {
     "end_time": "2020-10-20T20:15:52.485608Z",
     "start_time": "2020-10-20T20:15:52.473110Z"
    }
   },
   "outputs": [
    {
     "data": {
      "text/plain": [
       "array([9], dtype=uint8)"
      ]
     },
     "execution_count": 127,
     "metadata": {},
     "output_type": "execute_result"
    }
   ],
   "source": [
    "rf_clf.predict([X_train[110]])"
   ]
  },
  {
   "cell_type": "code",
   "execution_count": 139,
   "metadata": {
    "ExecuteTime": {
     "end_time": "2020-10-20T20:26:17.421832Z",
     "start_time": "2020-10-20T20:26:17.393122Z"
    }
   },
   "outputs": [
    {
     "data": {
      "text/plain": [
       "array([0.00000000e+00, 0.00000000e+00, 0.00000000e+00, 0.00000000e+00,\n",
       "       0.00000000e+00, 0.00000000e+00, 0.00000000e+00, 0.00000000e+00,\n",
       "       0.00000000e+00, 0.00000000e+00, 0.00000000e+00, 0.00000000e+00,\n",
       "       0.00000000e+00, 0.00000000e+00, 0.00000000e+00, 0.00000000e+00,\n",
       "       0.00000000e+00, 0.00000000e+00, 0.00000000e+00, 0.00000000e+00,\n",
       "       0.00000000e+00, 0.00000000e+00, 0.00000000e+00, 0.00000000e+00,\n",
       "       0.00000000e+00, 0.00000000e+00, 0.00000000e+00, 0.00000000e+00,\n",
       "       0.00000000e+00, 0.00000000e+00, 0.00000000e+00, 0.00000000e+00,\n",
       "       0.00000000e+00, 0.00000000e+00, 0.00000000e+00, 0.00000000e+00,\n",
       "       5.76381139e-06, 0.00000000e+00, 0.00000000e+00, 0.00000000e+00,\n",
       "       0.00000000e+00, 0.00000000e+00, 0.00000000e+00, 0.00000000e+00,\n",
       "       0.00000000e+00, 0.00000000e+00, 2.96406690e-06, 0.00000000e+00,\n",
       "       3.36846120e-06, 0.00000000e+00, 0.00000000e+00, 0.00000000e+00,\n",
       "       0.00000000e+00, 0.00000000e+00, 0.00000000e+00, 0.00000000e+00,\n",
       "       0.00000000e+00, 0.00000000e+00, 0.00000000e+00, 0.00000000e+00,\n",
       "       3.48306122e-06, 0.00000000e+00, 0.00000000e+00, 6.17551220e-06,\n",
       "       0.00000000e+00, 1.55444063e-05, 2.24565075e-05, 3.66727665e-06,\n",
       "       1.29283403e-04, 2.83224608e-05, 5.48721603e-05, 2.87300856e-05,\n",
       "       1.56056779e-04, 4.11253099e-05, 3.32385171e-05, 1.71742064e-05,\n",
       "       3.81313440e-05, 9.52953716e-06, 4.51941290e-05, 0.00000000e+00,\n",
       "       0.00000000e+00, 0.00000000e+00, 0.00000000e+00, 0.00000000e+00,\n",
       "       0.00000000e+00, 0.00000000e+00, 0.00000000e+00, 7.14783441e-06,\n",
       "       0.00000000e+00, 0.00000000e+00, 3.24182305e-06, 4.35890097e-05,\n",
       "       2.19957820e-04, 3.45314354e-05, 2.29787579e-04, 8.20597283e-05,\n",
       "       1.04002578e-03, 2.47119341e-04, 4.32903447e-04, 2.52622730e-03,\n",
       "       1.11900272e-03, 7.26461573e-04, 1.01463248e-03, 5.62975559e-04,\n",
       "       2.39300090e-04, 1.54816986e-04, 8.12219137e-05, 2.23084150e-05,\n",
       "       2.81068847e-05, 1.35099178e-05, 0.00000000e+00, 0.00000000e+00,\n",
       "       0.00000000e+00, 0.00000000e+00, 0.00000000e+00, 0.00000000e+00,\n",
       "       0.00000000e+00, 7.15431851e-06, 2.22817000e-05, 8.57633559e-05,\n",
       "       1.07563940e-04, 3.06366522e-04, 3.35344435e-04, 7.16325944e-04,\n",
       "       6.60748994e-04, 3.09381515e-03, 2.02006273e-03, 6.97851485e-04,\n",
       "       1.03522697e-03, 1.15697902e-03, 7.06155512e-04, 6.51456825e-04,\n",
       "       1.86561753e-04, 1.93800166e-04, 1.34774532e-04, 3.95446607e-05,\n",
       "       8.03054909e-05, 1.12255743e-05, 0.00000000e+00, 3.61188532e-06,\n",
       "       0.00000000e+00, 0.00000000e+00, 1.08114628e-05, 3.44019038e-06,\n",
       "       2.53107728e-05, 3.13759094e-05, 7.37894037e-05, 1.67887740e-04,\n",
       "       2.83165448e-04, 8.86685329e-04, 2.51300595e-03, 3.37950769e-03,\n",
       "       3.31639000e-03, 1.82482992e-03, 2.51594879e-03, 9.18963145e-03,\n",
       "       6.12975327e-03, 1.91696424e-03, 1.35030271e-03, 2.20428900e-03,\n",
       "       6.67348635e-04, 4.12283068e-04, 1.51023441e-03, 8.27058045e-04,\n",
       "       4.07270454e-05, 1.07284140e-05, 2.12739803e-05, 3.65850426e-06,\n",
       "       0.00000000e+00, 0.00000000e+00, 0.00000000e+00, 3.57752136e-05,\n",
       "       1.56246908e-05, 1.33893966e-04, 2.36087938e-04, 4.23849039e-04,\n",
       "       1.47448484e-03, 3.87879002e-03, 2.78894551e-03, 5.34400443e-03,\n",
       "       1.32102620e-03, 1.51564493e-03, 8.28402235e-03, 2.49375943e-03,\n",
       "       2.64012528e-03, 1.88216901e-03, 1.47892128e-03, 1.23435593e-03,\n",
       "       2.26362093e-03, 1.09687872e-03, 5.52557782e-04, 5.87561970e-04,\n",
       "       2.66888445e-04, 1.02501405e-04, 1.43397831e-05, 6.35157193e-06,\n",
       "       0.00000000e+00, 0.00000000e+00, 1.34775240e-05, 1.41846579e-05,\n",
       "       4.42764641e-05, 1.81866532e-04, 3.31438369e-04, 1.25100081e-03,\n",
       "       7.42090607e-04, 1.31438960e-03, 1.33712251e-03, 3.50349421e-03,\n",
       "       2.35773169e-03, 3.08669268e-03, 7.24024754e-03, 6.87892279e-03,\n",
       "       3.09824213e-03, 3.08114765e-03, 2.35211743e-03, 1.19232143e-03,\n",
       "       4.96864265e-03, 7.37410467e-04, 9.78646644e-04, 6.35370888e-04,\n",
       "       6.12319980e-04, 1.51951359e-04, 2.45343922e-05, 0.00000000e+00,\n",
       "       0.00000000e+00, 6.12273881e-06, 7.20448064e-06, 9.80803143e-06,\n",
       "       6.36422479e-05, 1.61688456e-04, 3.92578009e-04, 6.26343231e-04,\n",
       "       1.11993455e-03, 1.77417833e-03, 1.35549392e-03, 1.58024348e-03,\n",
       "       2.44486496e-03, 5.68491084e-03, 5.41968628e-03, 3.63227340e-03,\n",
       "       6.14708408e-03, 4.93805262e-03, 4.03371388e-03, 4.34660614e-03,\n",
       "       2.13983755e-03, 4.93498614e-03, 1.69936945e-03, 7.97133350e-04,\n",
       "       8.30950393e-04, 2.21487982e-04, 1.42184276e-05, 0.00000000e+00,\n",
       "       0.00000000e+00, 0.00000000e+00, 3.70494063e-06, 4.27544073e-05,\n",
       "       9.55190999e-05, 2.23106479e-04, 3.93565996e-04, 1.53184209e-03,\n",
       "       8.53615853e-04, 1.48815171e-03, 5.72322234e-03, 3.62614473e-03,\n",
       "       2.64362403e-03, 3.46384367e-03, 2.82876987e-03, 6.43620690e-03,\n",
       "       2.36299684e-03, 5.42363741e-03, 3.06139731e-03, 3.24875945e-03,\n",
       "       2.70327175e-03, 1.48199367e-03, 8.31126845e-04, 1.26436279e-03,\n",
       "       3.85197572e-04, 1.38553338e-04, 2.07713390e-05, 0.00000000e+00,\n",
       "       0.00000000e+00, 0.00000000e+00, 1.13571192e-05, 2.62429281e-05,\n",
       "       9.04909961e-05, 1.52825347e-04, 2.60241731e-04, 6.58489887e-04,\n",
       "       1.25548045e-03, 1.86257465e-03, 3.26664759e-03, 2.21004220e-03,\n",
       "       3.57365624e-03, 2.42871999e-03, 6.08640686e-03, 5.06479111e-03,\n",
       "       5.08353882e-03, 3.33195431e-03, 3.00375589e-03, 3.72822305e-03,\n",
       "       1.34438835e-03, 1.34058756e-03, 1.01379824e-03, 4.27673509e-04,\n",
       "       2.49789611e-04, 8.51320577e-05, 1.20051715e-05, 3.56423944e-06,\n",
       "       0.00000000e+00, 0.00000000e+00, 3.51004034e-06, 1.60927960e-05,\n",
       "       3.90358653e-05, 1.53218318e-04, 4.48833839e-04, 1.98742654e-03,\n",
       "       3.06195563e-03, 6.36757301e-03, 5.44156602e-03, 6.20546303e-03,\n",
       "       3.50661679e-03, 2.96664610e-03, 4.97983260e-03, 3.06064416e-03,\n",
       "       3.60009624e-03, 4.35332195e-03, 2.81883560e-03, 5.57474584e-03,\n",
       "       2.88091489e-03, 1.80631597e-03, 3.83807581e-03, 8.89098071e-04,\n",
       "       1.04175109e-04, 4.63605872e-05, 1.53579284e-05, 3.53820135e-06,\n",
       "       0.00000000e+00, 0.00000000e+00, 0.00000000e+00, 6.37463704e-06,\n",
       "       5.49203289e-05, 2.48578825e-04, 1.37825112e-03, 1.14166969e-03,\n",
       "       1.43400865e-03, 8.22290323e-03, 2.12734133e-03, 5.21998776e-03,\n",
       "       2.13868009e-03, 5.33081344e-03, 4.06110324e-03, 5.05156029e-03,\n",
       "       3.66902916e-03, 3.92633175e-03, 6.76935831e-03, 1.63835191e-03,\n",
       "       1.71772252e-03, 1.11091083e-03, 6.45273891e-04, 2.69445179e-03,\n",
       "       1.94299898e-04, 3.95306592e-05, 2.28540452e-05, 0.00000000e+00,\n",
       "       0.00000000e+00, 0.00000000e+00, 0.00000000e+00, 2.83367366e-05,\n",
       "       1.00532980e-04, 3.38489370e-04, 5.56349254e-04, 1.23753931e-03,\n",
       "       1.34158861e-03, 8.20855519e-03, 1.64690749e-03, 1.20521312e-02,\n",
       "       6.27741535e-03, 8.45813923e-03, 9.23899331e-03, 6.73205956e-03,\n",
       "       8.04977389e-03, 7.51283986e-03, 2.35211104e-03, 8.26087298e-04,\n",
       "       1.33810494e-03, 1.09347429e-03, 3.78051838e-04, 4.72958299e-04,\n",
       "       1.18209066e-04, 3.49902633e-06, 1.75770035e-05, 0.00000000e+00,\n",
       "       0.00000000e+00, 0.00000000e+00, 6.22270320e-06, 6.70265935e-06,\n",
       "       1.62540243e-04, 7.35088647e-04, 5.37507442e-04, 1.79300937e-03,\n",
       "       6.09441762e-03, 3.23964046e-03, 6.65231163e-03, 3.22379785e-03,\n",
       "       4.15424489e-03, 8.84373109e-03, 4.88801116e-03, 1.94935277e-03,\n",
       "       5.57141984e-03, 7.51234109e-03, 1.61899432e-03, 1.25221111e-03,\n",
       "       2.15027469e-03, 8.52394985e-04, 2.91885785e-03, 4.19572402e-04,\n",
       "       1.45838472e-04, 4.75874503e-05, 7.12525290e-06, 0.00000000e+00,\n",
       "       0.00000000e+00, 0.00000000e+00, 3.45807805e-06, 3.57967807e-05,\n",
       "       1.02283383e-04, 4.08022241e-04, 8.89752088e-04, 3.65888495e-03,\n",
       "       4.02189833e-03, 4.29710921e-03, 3.18992178e-03, 3.35613644e-03,\n",
       "       4.72374632e-03, 1.39319037e-02, 5.66944153e-03, 6.67196289e-03,\n",
       "       2.29915246e-03, 7.73619302e-03, 1.64139533e-03, 2.62015937e-03,\n",
       "       9.94491890e-04, 1.79753444e-03, 1.13520364e-03, 4.56101271e-04,\n",
       "       1.07162076e-04, 2.00222876e-05, 0.00000000e+00, 0.00000000e+00,\n",
       "       0.00000000e+00, 0.00000000e+00, 0.00000000e+00, 1.80946082e-05,\n",
       "       1.08905897e-04, 8.57197751e-04, 1.85047372e-03, 3.59026033e-03,\n",
       "       2.40101937e-03, 3.34714403e-03, 2.38930121e-03, 5.18212017e-03,\n",
       "       7.89183311e-03, 5.33729158e-03, 4.47439674e-03, 3.33649599e-03,\n",
       "       1.91277036e-03, 5.23362059e-03, 1.08167996e-03, 2.11020298e-03,\n",
       "       8.68204675e-04, 2.02205002e-03, 6.97356317e-04, 2.17122709e-04,\n",
       "       2.11102549e-04, 8.27836258e-05, 1.43846200e-05, 3.38827568e-06,\n",
       "       0.00000000e+00, 0.00000000e+00, 0.00000000e+00, 4.63991536e-05,\n",
       "       5.18756551e-05, 3.12751128e-04, 1.32717894e-03, 1.17361067e-03,\n",
       "       3.41950445e-03, 7.92940446e-03, 3.54809684e-03, 5.33607294e-03,\n",
       "       5.06948093e-03, 9.66388260e-03, 5.73437749e-03, 2.58814671e-03,\n",
       "       1.64305800e-03, 1.32516035e-03, 1.65876692e-03, 1.29560789e-03,\n",
       "       2.32927024e-03, 9.39909351e-04, 4.40554905e-04, 2.39283437e-04,\n",
       "       1.93070492e-04, 7.32884139e-05, 2.09456544e-05, 1.10169092e-05,\n",
       "       0.00000000e+00, 0.00000000e+00, 0.00000000e+00, 7.28656586e-05,\n",
       "       9.16393971e-05, 4.55832872e-04, 2.29320167e-03, 1.02950526e-03,\n",
       "       1.88863153e-03, 2.15642809e-03, 7.37102061e-03, 8.07078769e-03,\n",
       "       3.08490040e-03, 4.87625094e-03, 1.85035745e-03, 1.61207905e-03,\n",
       "       1.48774546e-03, 2.75819990e-03, 8.70577324e-04, 1.35205696e-03,\n",
       "       2.62725586e-03, 4.23730611e-04, 3.65217773e-04, 2.82202175e-04,\n",
       "       3.90178312e-04, 3.89833254e-05, 3.39536013e-06, 0.00000000e+00,\n",
       "       0.00000000e+00, 0.00000000e+00, 6.93924127e-06, 5.19173752e-05,\n",
       "       2.57223921e-04, 5.51306127e-04, 7.14591802e-04, 1.38738646e-03,\n",
       "       4.72018168e-03, 1.58953689e-03, 1.08879439e-02, 2.21565768e-03,\n",
       "       2.62331218e-03, 3.81009724e-03, 1.39573474e-03, 1.34159198e-03,\n",
       "       1.75774507e-03, 4.52770448e-03, 1.59521420e-03, 8.57882171e-04,\n",
       "       1.32975696e-03, 6.30642521e-04, 2.05140276e-03, 2.92208611e-04,\n",
       "       2.13894114e-04, 1.72169802e-05, 3.17597770e-06, 0.00000000e+00,\n",
       "       0.00000000e+00, 0.00000000e+00, 1.37256976e-05, 3.13686318e-05,\n",
       "       1.25676119e-04, 3.82302094e-04, 8.96578743e-04, 1.63913151e-03,\n",
       "       5.44116608e-03, 3.13426679e-03, 1.87599232e-03, 6.86284262e-03,\n",
       "       4.76846080e-03, 1.77079438e-03, 1.22263257e-03, 2.78288353e-03,\n",
       "       1.28473910e-03, 1.05887554e-03, 2.06998648e-03, 9.21996968e-04,\n",
       "       1.09596228e-03, 6.19226607e-04, 1.59214714e-03, 2.46935058e-04,\n",
       "       9.53796404e-05, 9.71976683e-06, 3.68028607e-06, 0.00000000e+00,\n",
       "       0.00000000e+00, 0.00000000e+00, 5.08098368e-06, 8.04331636e-05,\n",
       "       1.38304283e-04, 3.23575179e-04, 1.42128893e-03, 5.41059609e-03,\n",
       "       2.14456002e-03, 7.17832840e-03, 1.67972885e-03, 1.23929788e-03,\n",
       "       1.18085568e-03, 1.94522527e-03, 1.62476825e-03, 1.64055337e-03,\n",
       "       1.08814552e-03, 1.48037490e-03, 1.91661837e-03, 1.02904578e-03,\n",
       "       9.64998438e-04, 1.96683173e-04, 3.35764177e-04, 1.18456211e-04,\n",
       "       5.53362656e-05, 2.39711280e-05, 0.00000000e+00, 0.00000000e+00,\n",
       "       0.00000000e+00, 7.35368048e-06, 0.00000000e+00, 3.19959515e-05,\n",
       "       6.29264534e-05, 1.23491122e-03, 9.26386490e-04, 4.30263115e-03,\n",
       "       1.53347260e-03, 3.34939995e-03, 5.01567908e-03, 1.85118469e-03,\n",
       "       1.56471216e-03, 1.64776284e-03, 1.25056662e-03, 1.28987763e-03,\n",
       "       2.23698531e-03, 1.37709554e-03, 1.01055898e-03, 3.80723511e-04,\n",
       "       2.75464678e-04, 2.78134186e-04, 1.94399300e-04, 5.97985053e-05,\n",
       "       7.32341507e-06, 9.71487119e-06, 0.00000000e+00, 0.00000000e+00,\n",
       "       0.00000000e+00, 0.00000000e+00, 0.00000000e+00, 1.82618650e-05,\n",
       "       8.64241503e-05, 1.92803082e-04, 1.77000684e-04, 3.70382285e-04,\n",
       "       1.23037282e-03, 4.13363695e-03, 2.35842699e-03, 5.31959544e-03,\n",
       "       4.33632116e-03, 6.36500242e-03, 4.52221738e-03, 1.67722950e-03,\n",
       "       1.50797325e-03, 6.97064305e-04, 5.91346263e-04, 4.15416213e-04,\n",
       "       2.25300033e-04, 1.62511756e-04, 9.30981720e-05, 1.19181797e-05,\n",
       "       1.19059326e-05, 7.32491026e-06, 0.00000000e+00, 0.00000000e+00,\n",
       "       0.00000000e+00, 0.00000000e+00, 1.24064402e-05, 1.40011202e-05,\n",
       "       3.39839036e-05, 1.65590405e-04, 2.32657408e-04, 2.92614915e-04,\n",
       "       7.69276872e-04, 7.95607671e-04, 7.90841374e-04, 5.88153110e-03,\n",
       "       2.22323406e-03, 6.68536137e-04, 7.15353663e-04, 8.92657675e-04,\n",
       "       6.26607100e-04, 4.64915636e-04, 3.28041831e-04, 1.93909169e-04,\n",
       "       1.10585097e-04, 2.68493679e-05, 7.09785761e-05, 3.07320651e-05,\n",
       "       0.00000000e+00, 0.00000000e+00, 0.00000000e+00, 0.00000000e+00,\n",
       "       0.00000000e+00, 0.00000000e+00, 0.00000000e+00, 0.00000000e+00,\n",
       "       1.87924480e-05, 1.94929888e-05, 1.36757743e-04, 2.29151743e-04,\n",
       "       4.99193448e-04, 6.77139190e-04, 8.02122755e-04, 8.33961370e-04,\n",
       "       1.76541003e-03, 4.68583958e-04, 1.86958240e-03, 2.85318008e-04,\n",
       "       4.01612713e-04, 5.87634273e-04, 2.92258246e-04, 2.56112938e-04,\n",
       "       6.55747597e-05, 2.67333599e-05, 1.72811823e-05, 6.93492647e-06,\n",
       "       0.00000000e+00, 0.00000000e+00, 0.00000000e+00, 0.00000000e+00,\n",
       "       0.00000000e+00, 0.00000000e+00, 0.00000000e+00, 0.00000000e+00,\n",
       "       3.69651917e-06, 0.00000000e+00, 0.00000000e+00, 1.25754989e-05,\n",
       "       2.47020488e-06, 1.98491977e-04, 8.54174494e-05, 7.21117906e-05,\n",
       "       6.87666170e-05, 1.60223490e-04, 5.45112714e-05, 3.79809208e-04,\n",
       "       6.59498846e-05, 1.22429679e-04, 1.16477278e-04, 6.39160846e-05,\n",
       "       4.59679462e-05, 1.00391614e-05, 0.00000000e+00, 0.00000000e+00,\n",
       "       0.00000000e+00, 0.00000000e+00, 0.00000000e+00, 0.00000000e+00,\n",
       "       0.00000000e+00, 0.00000000e+00, 0.00000000e+00, 0.00000000e+00,\n",
       "       0.00000000e+00, 0.00000000e+00, 0.00000000e+00, 0.00000000e+00,\n",
       "       0.00000000e+00, 0.00000000e+00, 6.94121813e-06, 0.00000000e+00,\n",
       "       0.00000000e+00, 7.22710427e-06, 1.39391631e-05, 2.40813326e-06,\n",
       "       6.86090372e-06, 6.63545911e-06, 0.00000000e+00, 0.00000000e+00,\n",
       "       0.00000000e+00, 0.00000000e+00, 0.00000000e+00, 0.00000000e+00,\n",
       "       0.00000000e+00, 0.00000000e+00, 0.00000000e+00, 0.00000000e+00])"
      ]
     },
     "execution_count": 139,
     "metadata": {},
     "output_type": "execute_result"
    }
   ],
   "source": [
    "rf_clf.feature_importances_"
   ]
  },
  {
   "cell_type": "code",
   "execution_count": 132,
   "metadata": {
    "ExecuteTime": {
     "end_time": "2020-10-20T20:18:23.522386Z",
     "start_time": "2020-10-20T20:18:02.327212Z"
    }
   },
   "outputs": [
    {
     "data": {
      "text/plain": [
       "array([0.94116177, 0.93949697, 0.94374156])"
      ]
     },
     "execution_count": 132,
     "metadata": {},
     "output_type": "execute_result"
    }
   ],
   "source": [
    "## Cross validation test score\n",
    "cross_val_score(rf_clf, X_train, y_train, cv=3,\n",
    "               scoring=\"accuracy\")"
   ]
  },
  {
   "cell_type": "code",
   "execution_count": 136,
   "metadata": {
    "ExecuteTime": {
     "end_time": "2020-10-20T20:23:20.948345Z",
     "start_time": "2020-10-20T20:23:19.314588Z"
    }
   },
   "outputs": [],
   "source": [
    "## Quickly standardizing the data to see if it increases the scores.\n",
    "from sklearn.preprocessing import MinMaxScaler\n",
    "\n",
    "std = MinMaxScaler()\n",
    "X_train_std = std.fit_transform(X_train.astype(np.float64))"
   ]
  },
  {
   "cell_type": "code",
   "execution_count": 137,
   "metadata": {
    "ExecuteTime": {
     "end_time": "2020-10-20T20:23:38.778404Z",
     "start_time": "2020-10-20T20:23:21.941209Z"
    }
   },
   "outputs": [
    {
     "data": {
      "text/plain": [
       "array([0.94121176, 0.93929696, 0.94379157])"
      ]
     },
     "execution_count": 137,
     "metadata": {},
     "output_type": "execute_result"
    }
   ],
   "source": [
    "cross_val_score(rf_clf, X_train_std, y_train, cv=3,\n",
    "               scoring=\"accuracy\")"
   ]
  },
  {
   "cell_type": "markdown",
   "metadata": {},
   "source": [
    "**Scaling does not improve scores with the RandomForestClassifier.**"
   ]
  },
  {
   "cell_type": "code",
   "execution_count": 140,
   "metadata": {
    "ExecuteTime": {
     "end_time": "2020-10-20T20:28:57.416321Z",
     "start_time": "2020-10-20T20:28:39.406995Z"
    }
   },
   "outputs": [],
   "source": [
    "y_train_pred = cross_val_predict(rf_clf, X_train, y_train, cv=3)"
   ]
  },
  {
   "cell_type": "code",
   "execution_count": 141,
   "metadata": {
    "ExecuteTime": {
     "end_time": "2020-10-20T20:29:08.771570Z",
     "start_time": "2020-10-20T20:29:08.681964Z"
    }
   },
   "outputs": [
    {
     "data": {
      "text/plain": [
       "array([[5801,    3,   18,    5,    8,   17,   33,    3,   32,    3],\n",
       "       [   1, 6622,   32,   16,   11,    9,   10,   13,   17,   11],\n",
       "       [  54,   22, 5642,   38,   41,   11,   31,   55,   51,   13],\n",
       "       [  32,   20,  128, 5648,   11,  103,   11,   50,   95,   33],\n",
       "       [  19,   19,   25,   10, 5531,   12,   39,   18,   29,  140],\n",
       "       [  44,   24,   28,  175,   29, 4970,   56,   13,   50,   32],\n",
       "       [  61,   17,   32,    5,   31,   56, 5689,    0,   24,    3],\n",
       "       [   9,   32,   98,   32,   60,    6,    3, 5920,   16,   89],\n",
       "       [  32,   62,   92,  130,   48,   99,   32,   19, 5267,   70],\n",
       "       [  40,   18,   36,   84,  170,   40,    7,  100,   56, 5398]])"
      ]
     },
     "execution_count": 141,
     "metadata": {},
     "output_type": "execute_result"
    }
   ],
   "source": [
    "conf_mx = confusion_matrix(y_train, y_train_pred)\n",
    "conf_mx"
   ]
  },
  {
   "cell_type": "code",
   "execution_count": 150,
   "metadata": {
    "ExecuteTime": {
     "end_time": "2020-10-20T20:32:06.671924Z",
     "start_time": "2020-10-20T20:32:06.522486Z"
    }
   },
   "outputs": [
    {
     "data": {
      "image/png": "[encoded data removed]",
      "text/plain": [
       "<Figure size 288x288 with 1 Axes>"
      ]
     },
     "metadata": {
      "needs_background": "light"
     },
     "output_type": "display_data"
    }
   ],
   "source": [
    "plt.matshow(conf_mx, cmap=plt.cm.gray)\n",
    "#plt.figure(figsize=(20, 20)) \n",
    "plt.show()"
   ]
  },
  {
   "cell_type": "code",
   "execution_count": 157,
   "metadata": {
    "ExecuteTime": {
     "end_time": "2020-10-20T20:34:18.166662Z",
     "start_time": "2020-10-20T20:34:18.158785Z"
    }
   },
   "outputs": [],
   "source": [
    "row_sums = conf_mx.sum(axis=1, keepdims=True)\n",
    "norm_conf_mx = conf_mx / row_sums"
   ]
  },
  {
   "cell_type": "code",
   "execution_count": 159,
   "metadata": {
    "ExecuteTime": {
     "end_time": "2020-10-20T20:34:51.749426Z",
     "start_time": "2020-10-20T20:34:51.593836Z"
    }
   },
   "outputs": [
    {
     "data": {
      "image/png": "[encoded data removed]",
      "text/plain": [
       "<Figure size 288x288 with 1 Axes>"
      ]
     },
     "metadata": {
      "needs_background": "light"
     },
     "output_type": "display_data"
    }
   ],
   "source": [
    "np.fill_diagonal(norm_conf_mx, 0)\n",
    "plt.matshow(norm_conf_mx, cmap=plt.cm.gray)\n",
    "plt.show()"
   ]
  },
  {
   "cell_type": "code",
   "execution_count": 161,
   "metadata": {
    "ExecuteTime": {
     "end_time": "2020-10-20T20:37:27.022353Z",
     "start_time": "2020-10-20T20:37:26.998551Z"
    }
   },
   "outputs": [],
   "source": [
    "# EXTRA\n",
    "def plot_digits(instances, images_per_row=10, **options):\n",
    "    size = 28\n",
    "    images_per_row = min(len(instances), images_per_row)\n",
    "    images = [instance.reshape(size,size) for instance in instances]\n",
    "    n_rows = (len(instances) - 1) // images_per_row + 1\n",
    "    row_images = []\n",
    "    n_empty = n_rows * images_per_row - len(instances)\n",
    "    images.append(np.zeros((size, size * n_empty)))\n",
    "    for row in range(n_rows):\n",
    "        rimages = images[row * images_per_row : (row + 1) * images_per_row]\n",
    "        row_images.append(np.concatenate(rimages, axis=1))\n",
    "    image = np.concatenate(row_images, axis=0)\n",
    "    plt.imshow(image, cmap = mpl.cm.binary, **options)\n",
    "    plt.axis(\"off\")"
   ]
  },
  {
   "cell_type": "code",
   "execution_count": 162,
   "metadata": {
    "ExecuteTime": {
     "end_time": "2020-10-20T20:37:28.472023Z",
     "start_time": "2020-10-20T20:37:28.008160Z"
    }
   },
   "outputs": [
    {
     "data": {
      "image/png": "[encoded data removed]",
      "text/plain": [
       "<Figure size 576x576 with 4 Axes>"
      ]
     },
     "metadata": {
      "needs_background": "light"
     },
     "output_type": "display_data"
    }
   ],
   "source": [
    "cl_a, cl_b = 3, 5\n",
    "X_aa = X_train[(y_train == cl_a) & (y_train_pred == cl_a)]\n",
    "X_ab = X_train[(y_train == cl_a) & (y_train_pred == cl_b)]\n",
    "X_ba = X_train[(y_train == cl_b) & (y_train_pred == cl_a)]\n",
    "X_bb = X_train[(y_train == cl_b) & (y_train_pred == cl_b)]\n",
    "\n",
    "plt.figure(figsize=(8,8))\n",
    "plt.subplot(221); plot_digits(X_aa[:25], images_per_row=5)\n",
    "plt.subplot(222); plot_digits(X_ab[:25], images_per_row=5)\n",
    "plt.subplot(223); plot_digits(X_ba[:25], images_per_row=5)\n",
    "plt.subplot(224); plot_digits(X_bb[:25], images_per_row=5)\n",
    "plt.show()"
   ]
  },
  {
   "cell_type": "code",
   "execution_count": 166,
   "metadata": {
    "ExecuteTime": {
     "end_time": "2020-10-20T20:42:18.661849Z",
     "start_time": "2020-10-20T20:42:18.235791Z"
    }
   },
   "outputs": [
    {
     "data": {
      "image/png": "[encoded data removed]",
      "text/plain": [
       "<Figure size 576x576 with 4 Axes>"
      ]
     },
     "metadata": {
      "needs_background": "light"
     },
     "output_type": "display_data"
    }
   ],
   "source": [
    "cl_a, cl_b = 4, 9\n",
    "X_aa = X_train[(y_train == cl_a) & (y_train_pred == cl_a)]\n",
    "X_ab = X_train[(y_train == cl_a) & (y_train_pred == cl_b)]\n",
    "X_ba = X_train[(y_train == cl_b) & (y_train_pred == cl_a)]\n",
    "X_bb = X_train[(y_train == cl_b) & (y_train_pred == cl_b)]\n",
    "\n",
    "plt.figure(figsize=(8,8))\n",
    "plt.subplot(221); plot_digits(X_aa[:25], images_per_row=5)\n",
    "plt.subplot(222); plot_digits(X_ab[:25], images_per_row=5)\n",
    "plt.subplot(223); plot_digits(X_ba[:25], images_per_row=5)\n",
    "plt.subplot(224); plot_digits(X_bb[:25], images_per_row=5)\n",
    "plt.show()"
   ]
  },
  {
   "cell_type": "markdown",
   "metadata": {},
   "source": [
    "## K-Neighbours Classifier"
   ]
  },
  {
   "cell_type": "code",
   "execution_count": 9,
   "metadata": {
    "ExecuteTime": {
     "end_time": "2020-10-20T22:09:32.408099Z",
     "start_time": "2020-10-20T22:09:32.211291Z"
    }
   },
   "outputs": [],
   "source": [
    "from sklearn.neighbors import KNeighborsClassifier\n",
    "\n",
    "kn_clf = KNeighborsClassifier()"
   ]
  },
  {
   "cell_type": "code",
   "execution_count": null,
   "metadata": {
    "ExecuteTime": {
     "start_time": "2020-10-20T21:59:57.308Z"
    }
   },
   "outputs": [],
   "source": [
    "#y_train_pred_kn = cross_val_predict(kn_clf, X_train, y_train, cv=3)"
   ]
  },
  {
   "cell_type": "code",
   "execution_count": 11,
   "metadata": {
    "ExecuteTime": {
     "end_time": "2020-10-20T23:10:03.261218Z",
     "start_time": "2020-10-20T22:09:54.701769Z"
    }
   },
   "outputs": [
    {
     "data": {
      "text/plain": [
       "array([0.96760648, 0.96704835, 0.96754513])"
      ]
     },
     "execution_count": 11,
     "metadata": {},
     "output_type": "execute_result"
    }
   ],
   "source": [
    "from sklearn.model_selection import cross_val_score\n",
    "\n",
    "cross_val_score(kn_clf, X_train, y_train, cv=3, scoring=\"accuracy\")"
   ]
  },
  {
   "cell_type": "code",
   "execution_count": 17,
   "metadata": {
    "ExecuteTime": {
     "end_time": "2020-10-21T10:20:18.113350Z",
     "start_time": "2020-10-21T10:20:18.105180Z"
    }
   },
   "outputs": [],
   "source": [
    "from sklearn.model_selection import GridSearchCV\n",
    "\n",
    "param_grid = [{\n",
    "    'weights':('uniform', 'distance'),\n",
    "    'n_neighbors':[1, 3, 8, 10]\n",
    "}]\n",
    "\n",
    "grid_search = GridSearchCV(kn_clf, param_grid, cv=3, verbose=3)"
   ]
  },
  {
   "cell_type": "code",
   "execution_count": null,
   "metadata": {
    "ExecuteTime": {
     "start_time": "2020-10-21T10:20:24.407Z"
    }
   },
   "outputs": [],
   "source": [
    "grid_search.fit(X_train, y_train)"
   ]
  },
  {
   "cell_type": "markdown",
   "metadata": {},
   "source": [
    "## Data Augumentation --> adding shifted pictures"
   ]
  },
  {
   "cell_type": "code",
   "execution_count": 25,
   "metadata": {
    "ExecuteTime": {
     "end_time": "2020-10-21T10:45:10.411080Z",
     "start_time": "2020-10-21T10:45:10.403125Z"
    }
   },
   "outputs": [],
   "source": [
    "from scipy.ndimage.interpolation import shift, rotate\n",
    "import numpy as np"
   ]
  },
  {
   "cell_type": "code",
   "execution_count": 12,
   "metadata": {
    "ExecuteTime": {
     "end_time": "2020-10-21T10:37:24.084729Z",
     "start_time": "2020-10-21T10:37:24.078271Z"
    }
   },
   "outputs": [],
   "source": [
    "def shift_image(image, dx, dy):\n",
    "    image = image.reshape((28,28))\n",
    "    shifted_image = shift(image, [dx, dy], cval=0, mode=\"constant\")\n",
    "    return shifted_image.reshape([-1])"
   ]
  },
  {
   "cell_type": "code",
   "execution_count": 33,
   "metadata": {
    "ExecuteTime": {
     "end_time": "2020-10-21T10:47:00.487167Z",
     "start_time": "2020-10-21T10:47:00.478999Z"
    }
   },
   "outputs": [],
   "source": [
    "def rotate_image(image, deg):\n",
    "    image = image.reshape((28,28))\n",
    "    rotated_image = rotate(image, deg, reshape=False)\n",
    "    return rotated_image.reshape([-1])"
   ]
  },
  {
   "cell_type": "code",
   "execution_count": 22,
   "metadata": {
    "ExecuteTime": {
     "end_time": "2020-10-21T10:40:19.725049Z",
     "start_time": "2020-10-21T10:40:19.165226Z"
    }
   },
   "outputs": [
    {
     "data": {
      "image/png": "[encoded data removed]",
      "text/plain": [
       "<Figure size 864x216 with 3 Axes>"
      ]
     },
     "metadata": {
      "needs_background": "light"
     },
     "output_type": "display_data"
    }
   ],
   "source": [
    "image = X_train[1000]\n",
    "shifted_image_down = shift_image(image, 0, 5)\n",
    "shifted_image_left = shift_image(image, -5, 0)\n",
    "\n",
    "plt.figure(figsize=(12,3))\n",
    "plt.subplot(131)\n",
    "plt.title(\"Original\", fontsize=14)\n",
    "plt.imshow(image.reshape(28, 28), interpolation=\"nearest\", cmap=\"Greys\")\n",
    "plt.subplot(132)\n",
    "plt.title(\"Shifted down\", fontsize=14)\n",
    "plt.imshow(shifted_image_down.reshape(28, 28), interpolation=\"nearest\", cmap=\"Greys\")\n",
    "plt.subplot(133)\n",
    "plt.title(\"Shifted left\", fontsize=14)\n",
    "plt.imshow(shifted_image_left.reshape(28, 28), interpolation=\"nearest\", cmap=\"Greys\")\n",
    "plt.show()"
   ]
  },
  {
   "cell_type": "code",
   "execution_count": 37,
   "metadata": {
    "ExecuteTime": {
     "end_time": "2020-10-21T10:48:35.841809Z",
     "start_time": "2020-10-21T10:48:35.004473Z"
    }
   },
   "outputs": [
    {
     "data": {
      "image/png": "[encoded data removed]",
      "text/plain": [
       "<Figure size 864x216 with 3 Axes>"
      ]
     },
     "metadata": {
      "needs_background": "light"
     },
     "output_type": "display_data"
    }
   ],
   "source": [
    "image = X_train[1100]\n",
    "rotated_image_right = rotate_image(image, -15)\n",
    "rotated_image_left = rotate_image(image, 15)\n",
    "\n",
    "plt.figure(figsize=(12,3))\n",
    "plt.subplot(131)\n",
    "plt.title(\"Original\", fontsize=14)\n",
    "plt.imshow(image.reshape(28, 28), interpolation=\"nearest\", cmap=\"Greys\")\n",
    "plt.subplot(132)\n",
    "plt.title(\"Rotated 15 degrees to the right\", fontsize=14)\n",
    "plt.imshow(rotated_image_right.reshape(28, 28), interpolation=\"nearest\", cmap=\"Greys\")\n",
    "plt.subplot(133)\n",
    "plt.title(\"Rotated 15 degrees to the left\", fontsize=14)\n",
    "plt.imshow(rotated_image_left.reshape(28, 28), interpolation=\"nearest\", cmap=\"Greys\")\n",
    "plt.show()"
   ]
  },
  {
   "cell_type": "code",
   "execution_count": 51,
   "metadata": {
    "ExecuteTime": {
     "end_time": "2020-10-21T11:00:00.167391Z",
     "start_time": "2020-10-21T10:58:48.387636Z"
    }
   },
   "outputs": [],
   "source": [
    "X_train_augmented = [image for image in X_train]\n",
    "y_train_augmented = [label for label in y_train]\n",
    "\n",
    "# Adding shifted images to the dataset\n",
    "for dx, dy in ((1, 0), (0, 1), (-1, 0), (0, -1)):\n",
    "    for image, label in zip(X_train, y_train):\n",
    "        X_train_augmented.append(shift_image(image, dx, dy))\n",
    "        y_train_augmented.append(label)\n",
    "\n",
    "# Adding rotated images to the dataset\n",
    "for deg in [15, -15]:\n",
    "    for image, label in zip(X_train, y_train):\n",
    "        X_train_augmented.append(rotate_image(image, deg))\n",
    "        y_train_augmented.append(label)"
   ]
  },
  {
   "cell_type": "code",
   "execution_count": 52,
   "metadata": {
    "ExecuteTime": {
     "end_time": "2020-10-21T11:03:46.147785Z",
     "start_time": "2020-10-21T11:03:46.135151Z"
    }
   },
   "outputs": [
    {
     "data": {
      "text/plain": [
       "list"
      ]
     },
     "execution_count": 52,
     "metadata": {},
     "output_type": "execute_result"
    }
   ],
   "source": [
    "type(X_train_augmented)"
   ]
  },
  {
   "cell_type": "code",
   "execution_count": 53,
   "metadata": {
    "ExecuteTime": {
     "end_time": "2020-10-21T11:13:32.545643Z",
     "start_time": "2020-10-21T11:12:59.332724Z"
    }
   },
   "outputs": [],
   "source": [
    "X_train_augmented = np.array(X_train_augmented)\n",
    "y_train_augmented = np.array(y_train_augmented)"
   ]
  },
  {
   "cell_type": "code",
   "execution_count": 54,
   "metadata": {
    "ExecuteTime": {
     "end_time": "2020-10-21T11:14:30.286560Z",
     "start_time": "2020-10-21T11:13:37.526225Z"
    }
   },
   "outputs": [],
   "source": [
    "# Shuffle the augmented dataset\n",
    "shuffle_idx = np.random.permutation(len(X_train_augmented))\n",
    "X_train_augmented = X_train_augmented[shuffle_idx]\n",
    "y_train_augmented = y_train_augmented[shuffle_idx]"
   ]
  },
  {
   "cell_type": "code",
   "execution_count": 57,
   "metadata": {
    "ExecuteTime": {
     "end_time": "2020-10-21T11:15:10.388187Z",
     "start_time": "2020-10-21T11:15:10.097827Z"
    }
   },
   "outputs": [],
   "source": [
    "from sklearn.neighbors import KNeighborsClassifier\n",
    "optimal_params = {'n_neighbors': 4, 'weights': 'distance'}\n",
    "knn_clf = KNeighborsClassifier(**optimal_params)"
   ]
  },
  {
   "cell_type": "code",
   "execution_count": 58,
   "metadata": {
    "ExecuteTime": {
     "end_time": "2020-10-21T11:17:25.971888Z",
     "start_time": "2020-10-21T11:15:13.419323Z"
    }
   },
   "outputs": [
    {
     "data": {
      "text/plain": [
       "KNeighborsClassifier(algorithm='auto', leaf_size=30, metric='minkowski',\n",
       "                     metric_params=None, n_jobs=None, n_neighbors=4, p=2,\n",
       "                     weights='distance')"
      ]
     },
     "execution_count": 58,
     "metadata": {},
     "output_type": "execute_result"
    }
   ],
   "source": [
    "knn_clf.fit(X_train_augmented, y_train_augmented)"
   ]
  },
  {
   "cell_type": "code",
   "execution_count": 61,
   "metadata": {
    "ExecuteTime": {
     "end_time": "2020-10-21T15:45:43.019705Z",
     "start_time": "2020-10-21T13:42:04.539402Z"
    }
   },
   "outputs": [
    {
     "data": {
      "text/plain": [
       "0.979"
      ]
     },
     "execution_count": 61,
     "metadata": {},
     "output_type": "execute_result"
    }
   ],
   "source": [
    "# Predict with the TEST SET for final prediction\n",
    "from sklearn.metrics import accuracy_score\n",
    "y_pred = knn_clf.predict(X_test)\n",
    "accuracy_score(y_test, y_pred)"
   ]
  },
  {
   "cell_type": "code",
   "execution_count": 63,
   "metadata": {
    "ExecuteTime": {
     "end_time": "2020-10-26T21:39:13.459818Z",
     "start_time": "2020-10-26T21:38:42.484410Z"
    }
   },
   "outputs": [
    {
     "data": {
      "text/plain": [
       "['knn_clf_979.pkl']"
      ]
     },
     "execution_count": 63,
     "metadata": {},
     "output_type": "execute_result"
    }
   ],
   "source": [
    "# Save final model\n",
    "import joblib\n",
    "\n",
    "joblib.dump(knn_clf, \"knn_clf_979.pkl\")"
   ]
  },
  {
   "cell_type": "markdown",
   "metadata": {},
   "source": [
    "**Project completed with a 97,9% accuracy!**"
   ]
  },
  {
   "cell_type": "code",
   "execution_count": null,
   "metadata": {},
   "outputs": [],
   "source": []
  }
 ],
 "metadata": {
  "kernelspec": {
   "display_name": "Python 3",
   "language": "python",
   "name": "python3"
  },
  "language_info": {
   "codemirror_mode": {
    "name": "ipython",
    "version": 3
   },
   "file_extension": ".py",
   "mimetype": "text/x-python",
   "name": "python",
   "nbconvert_exporter": "python",
   "pygments_lexer": "ipython3",
   "version": "3.7.4"
  },
  "toc": {
   "base_numbering": 1,
   "nav_menu": {},
   "number_sections": false,
   "sideBar": true,
   "skip_h1_title": false,
   "title_cell": "Table of Contents",
   "title_sidebar": "Contents",
   "toc_cell": false,
   "toc_position": {},
   "toc_section_display": true,
   "toc_window_display": false
  },
  "varInspector": {
   "cols": {
    "lenName": 16,
    "lenType": 16,
    "lenVar": 40
   },
   "kernels_config": {
    "python": {
     "delete_cmd_postfix": "",
     "delete_cmd_prefix": "del ",
     "library": "var_list.py",
     "varRefreshCmd": "print(var_dic_list())"
    },
    "r": {
     "delete_cmd_postfix": ") ",
     "delete_cmd_prefix": "rm(",
     "library": "var_list.r",
     "varRefreshCmd": "cat(var_dic_list()) "
    }
   },
   "types_to_exclude": [
    "module",
    "function",
    "builtin_function_or_method",
    "instance",
    "_Feature"
   ],
   "window_display": false
  }
 },
 "nbformat": 4,
 "nbformat_minor": 2
}
